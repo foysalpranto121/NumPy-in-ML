{
 "cells": [
  {
   "cell_type": "markdown",
   "id": "88f7a630",
   "metadata": {},
   "source": [
    "# NUMPY"
   ]
  },
  {
   "cell_type": "code",
   "execution_count": 1,
   "id": "1af46c6c",
   "metadata": {},
   "outputs": [
    {
     "name": "stdout",
     "output_type": "stream",
     "text": [
      "Defaulting to user installation because normal site-packages is not writeable\n",
      "Requirement already satisfied: numpy in c:\\users\\asus\\appdata\\local\\packages\\pythonsoftwarefoundation.python.3.13_qbz5n2kfra8p0\\localcache\\local-packages\\python313\\site-packages (2.3.3)\n"
     ]
    }
   ],
   "source": [
    "! pip install numpy"
   ]
  },
  {
   "cell_type": "code",
   "execution_count": 2,
   "id": "fa7c7bd3",
   "metadata": {},
   "outputs": [],
   "source": [
    "import numpy as np"
   ]
  },
  {
   "cell_type": "markdown",
   "id": "7db4fac5",
   "metadata": {},
   "source": [
    "## Create array using Numpy"
   ]
  },
  {
   "cell_type": "code",
   "execution_count": 3,
   "id": "73eb3fdd",
   "metadata": {},
   "outputs": [
    {
     "name": "stdout",
     "output_type": "stream",
     "text": [
      "[ 1  2 34 55]\n",
      "<class 'numpy.ndarray'>\n"
     ]
    },
    {
     "data": {
      "text/plain": [
       "(4,)"
      ]
     },
     "execution_count": 3,
     "metadata": {},
     "output_type": "execute_result"
    }
   ],
   "source": [
    "## 1D array\n",
    "ar1=np.array([1,2,34,55])\n",
    "print(ar1)\n",
    "print(type(ar1))\n",
    "ar1.shape\n"
   ]
  },
  {
   "cell_type": "code",
   "execution_count": 4,
   "id": "9103107d",
   "metadata": {},
   "outputs": [
    {
     "data": {
      "text/plain": [
       "array([[ 1,  2, 34, 55]])"
      ]
     },
     "execution_count": 4,
     "metadata": {},
     "output_type": "execute_result"
    }
   ],
   "source": [
    "## 2D array \n",
    "ar2=np.array([1,2,34,55])\n",
    "ar2.reshape(1,4) ## 0ne row and 4 columns "
   ]
  },
  {
   "cell_type": "code",
   "execution_count": 5,
   "id": "aecbca19",
   "metadata": {},
   "outputs": [
    {
     "data": {
      "text/plain": [
       "(1, 4)"
      ]
     },
     "execution_count": 5,
     "metadata": {},
     "output_type": "execute_result"
    }
   ],
   "source": [
    "ar2=np.array([[1,2,34,55]])\n",
    "ar2.shape"
   ]
  },
  {
   "cell_type": "code",
   "execution_count": 6,
   "id": "9c0d95f9",
   "metadata": {},
   "outputs": [
    {
     "name": "stdout",
     "output_type": "stream",
     "text": [
      "[[ 1  2 34 55]\n",
      " [ 7  7  8  9]]\n"
     ]
    },
    {
     "data": {
      "text/plain": [
       "(2, 4)"
      ]
     },
     "execution_count": 6,
     "metadata": {},
     "output_type": "execute_result"
    }
   ],
   "source": [
    "ar2=np.array([[1,2,34,55],[7,7,8,9]]) ## 2 rows and 4 columns \n",
    "print(ar2)\n",
    "ar2.shape "
   ]
  },
  {
   "cell_type": "code",
   "execution_count": 7,
   "id": "43a7e3b5",
   "metadata": {},
   "outputs": [
    {
     "data": {
      "text/plain": [
       "array([[0],\n",
       "       [2],\n",
       "       [4],\n",
       "       [6],\n",
       "       [8]])"
      ]
     },
     "execution_count": 7,
     "metadata": {},
     "output_type": "execute_result"
    }
   ],
   "source": [
    "np.arange(0,10,2).reshape(5,1)"
   ]
  },
  {
   "cell_type": "code",
   "execution_count": 8,
   "id": "9df5c722",
   "metadata": {},
   "outputs": [
    {
     "data": {
      "text/plain": [
       "array([[1., 1., 1., 1.],\n",
       "       [1., 1., 1., 1.],\n",
       "       [1., 1., 1., 1.]])"
      ]
     },
     "execution_count": 8,
     "metadata": {},
     "output_type": "execute_result"
    }
   ],
   "source": [
    "np.ones((3,4))\n",
    "## all elemts will be one (3 row ,4 columns )"
   ]
  },
  {
   "cell_type": "code",
   "execution_count": 9,
   "id": "44e1d1d9",
   "metadata": {},
   "outputs": [
    {
     "data": {
      "text/plain": [
       "array([[1., 0., 0.],\n",
       "       [0., 1., 0.],\n",
       "       [0., 0., 1.]])"
      ]
     },
     "execution_count": 9,
     "metadata": {},
     "output_type": "execute_result"
    }
   ],
   "source": [
    "## Identity Matrix \n",
    "# diogonial elements will be one \n",
    "np.eye(3)"
   ]
  },
  {
   "cell_type": "markdown",
   "id": "57125e40",
   "metadata": {},
   "source": [
    "## Atributes of NUM py Array"
   ]
  },
  {
   "cell_type": "code",
   "execution_count": 10,
   "id": "0c248876",
   "metadata": {},
   "outputs": [
    {
     "name": "stdout",
     "output_type": "stream",
     "text": [
      "Array:\n",
      " [[1 2 3 4]\n",
      " [5 6 7 8]]\n",
      "(2, 4)\n",
      "2\n",
      "8\n",
      "int64\n",
      "8\n"
     ]
    }
   ],
   "source": [
    "arr=np.array([[1,2,3,4],[5,6,7,8]])\n",
    "print(\"Array:\\n\",arr)\n",
    "print(arr.shape)\n",
    "print(arr.ndim) ##  to see the dimension of the array\n",
    "print(arr.size)\n",
    "print(arr.dtype)\n",
    "print(arr.itemsize)\n"
   ]
  },
  {
   "cell_type": "markdown",
   "id": "70811ca5",
   "metadata": {},
   "source": [
    "# Numpy vectorized Operation\n"
   ]
  },
  {
   "cell_type": "code",
   "execution_count": 11,
   "id": "790a71f0",
   "metadata": {},
   "outputs": [
    {
     "name": "stdout",
     "output_type": "stream",
     "text": [
      "addition : [12 24 35 46]\n"
     ]
    }
   ],
   "source": [
    "arr3=np.array([1,2,3,4])\n",
    "arr4=np.array([11,22,32,42])\n",
    "## elemnet wise addition \n",
    "print(\"addition :\",arr3+arr4)"
   ]
  },
  {
   "cell_type": "code",
   "execution_count": 12,
   "id": "aaab18db",
   "metadata": {},
   "outputs": [
    {
     "name": "stdout",
     "output_type": "stream",
     "text": [
      "[-10 -20 -29 -38]\n"
     ]
    }
   ],
   "source": [
    "## element wise substraction\n",
    "print(arr3-arr4)"
   ]
  },
  {
   "cell_type": "code",
   "execution_count": 13,
   "id": "44b173e3",
   "metadata": {},
   "outputs": [
    {
     "name": "stdout",
     "output_type": "stream",
     "text": [
      "[ 11  44  96 168]\n"
     ]
    }
   ],
   "source": [
    "## multiplication\n",
    "print(arr3*arr4)"
   ]
  },
  {
   "cell_type": "code",
   "execution_count": 14,
   "id": "f401dc72",
   "metadata": {},
   "outputs": [
    {
     "name": "stdout",
     "output_type": "stream",
     "text": [
      "[0.09090909 0.09090909 0.09375    0.0952381 ]\n"
     ]
    }
   ],
   "source": [
    "## dev\n",
    "print(arr3/arr4)"
   ]
  },
  {
   "cell_type": "markdown",
   "id": "ea554b49",
   "metadata": {},
   "source": [
    "# Universal Function \n"
   ]
  },
  {
   "cell_type": "code",
   "execution_count": 15,
   "id": "839e118b",
   "metadata": {},
   "outputs": [
    {
     "name": "stdout",
     "output_type": "stream",
     "text": [
      "[1.         1.41421356 1.73205081 2.        ]\n",
      "[ 2.71828183  7.3890561  20.08553692 54.59815003]\n",
      "[ 0.84147098  0.90929743  0.14112001 -0.7568025 ]\n",
      "[0.         0.69314718 1.09861229 1.38629436]\n"
     ]
    }
   ],
   "source": [
    "arr=np.array([1,2,3,4])\n",
    "## square root\n",
    "print(np.sqrt(arr))\n",
    "## exponential\n",
    "print(np.exp(arr))\n",
    "##  sine\n",
    "print(np.sin(arr))\n",
    "## natural log \n",
    "print(np.log(arr))\n",
    "\n",
    "\n"
   ]
  },
  {
   "cell_type": "markdown",
   "id": "d5344554",
   "metadata": {},
   "source": [
    "# Array slicing and indexing"
   ]
  },
  {
   "cell_type": "code",
   "execution_count": 16,
   "id": "2ad9f628",
   "metadata": {},
   "outputs": [
    {
     "name": "stdout",
     "output_type": "stream",
     "text": [
      "[[ 1  2  3  4]\n",
      " [ 5  6  7  8]\n",
      " [11 22 33 44]]\n"
     ]
    }
   ],
   "source": [
    "arr5=np.array([[1,2,3,4],[5,6,7,8],[11,22,33,44]])\n",
    "print(arr5)"
   ]
  },
  {
   "cell_type": "code",
   "execution_count": 17,
   "id": "ce8318f3",
   "metadata": {},
   "outputs": [
    {
     "data": {
      "text/plain": [
       "np.int64(1)"
      ]
     },
     "execution_count": 17,
     "metadata": {},
     "output_type": "execute_result"
    }
   ],
   "source": [
    "arr5[0][0]"
   ]
  },
  {
   "cell_type": "code",
   "execution_count": 18,
   "id": "7d4fcc7e",
   "metadata": {},
   "outputs": [
    {
     "data": {
      "text/plain": [
       "np.int64(7)"
      ]
     },
     "execution_count": 18,
     "metadata": {},
     "output_type": "execute_result"
    }
   ],
   "source": [
    "arr5[1][2]"
   ]
  },
  {
   "cell_type": "code",
   "execution_count": 19,
   "id": "21ad4acf",
   "metadata": {},
   "outputs": [
    {
     "data": {
      "text/plain": [
       "array([[ 6,  7,  8],\n",
       "       [22, 33, 44]])"
      ]
     },
     "execution_count": 19,
     "metadata": {},
     "output_type": "execute_result"
    }
   ],
   "source": [
    "arr5[1:,1:]"
   ]
  },
  {
   "cell_type": "markdown",
   "id": "2653bb7d",
   "metadata": {},
   "source": [
    "# modify array elements"
   ]
  },
  {
   "cell_type": "code",
   "execution_count": 20,
   "id": "eebf8a61",
   "metadata": {},
   "outputs": [
    {
     "name": "stdout",
     "output_type": "stream",
     "text": [
      "[[100   2   3   4]\n",
      " [  5   6   7   8]\n",
      " [ 11  22  33  44]]\n"
     ]
    }
   ],
   "source": [
    "arr5[0,0]=100\n",
    "## arr5[1:]=100\n",
    "print(arr5)"
   ]
  },
  {
   "cell_type": "markdown",
   "id": "165fb475",
   "metadata": {},
   "source": [
    "# Statistical Cocept"
   ]
  },
  {
   "cell_type": "code",
   "execution_count": 21,
   "id": "4626c213",
   "metadata": {},
   "outputs": [
    {
     "name": "stdout",
     "output_type": "stream",
     "text": [
      "13.2\n",
      "21.423351745233514\n",
      "[-0.56947205 -0.52279401 -0.47611597 -0.42943794  1.99781997]\n",
      "458.9599999999999\n"
     ]
    }
   ],
   "source": [
    "# Normalization \n",
    "# to  have  a mean of 0 and standard deviation of 1\n",
    "\n",
    "data=np.array([1,2,3,4,56])\n",
    "\n",
    "# calculate the mean and standard deviation \n",
    "mean=np.mean(data)\n",
    "print(mean)\n",
    "stdandard_deviation= np.std(data)\n",
    "print(stdandard_deviation)\n",
    "\n",
    "##### Normalize data \n",
    "normalize_data= (data-mean)/stdandard_deviation\n",
    "print(normalize_data)\n",
    "## variance \n",
    "variance=np.var(data)\n",
    "print(variance)"
   ]
  },
  {
   "cell_type": "markdown",
   "id": "5995abd3",
   "metadata": {},
   "source": [
    "# Logical Operations"
   ]
  },
  {
   "cell_type": "code",
   "execution_count": 22,
   "id": "f7377f41",
   "metadata": {},
   "outputs": [
    {
     "data": {
      "text/plain": [
       "array([57, 57, 57, 57, 56])"
      ]
     },
     "execution_count": 22,
     "metadata": {},
     "output_type": "execute_result"
    }
   ],
   "source": [
    "data>5\n",
    "data[(data>5)] |(data<=8)"
   ]
  }
 ],
 "metadata": {
  "kernelspec": {
   "display_name": "Python 3",
   "language": "python",
   "name": "python3"
  },
  "language_info": {
   "codemirror_mode": {
    "name": "ipython",
    "version": 3
   },
   "file_extension": ".py",
   "mimetype": "text/x-python",
   "name": "python",
   "nbconvert_exporter": "python",
   "pygments_lexer": "ipython3",
   "version": "3.13.7"
  }
 },
 "nbformat": 4,
 "nbformat_minor": 5
}
